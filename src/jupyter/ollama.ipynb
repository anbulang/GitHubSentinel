{
 "cells": [
  {
   "cell_type": "markdown",
   "id": "b99f3090-1500-4e25-a900-3f0bebfa3ace",
   "metadata": {},
   "source": [
    "# Ollama 快速入门\n",
    "\n",
    "## 调用 LLama 3 模型服务（文本生成 API）"
   ]
  },
  {
   "cell_type": "code",
   "execution_count": 2,
   "id": "83a77eb9-64d1-48d0-a4f2-477b854998ae",
   "metadata": {},
   "outputs": [
    {
     "name": "stdout",
     "output_type": "stream",
     "text": [
      "{'model': 'llama3', 'created_at': '2024-09-17T09:51:45.797842Z', 'response': '{\"morning\": \"Blue-Gray\", \"early afternoon\": \"Light Blue\", \"mid-afternoon\": \"Clear Blue\", \"late afternoon\": \"Orange-Yellow\", \"sunset\": \"Pink-Red\", \"night\": \"Dark Blue\"}', 'done': True, 'done_reason': 'stop', 'context': [128006, 882, 128007, 198, 198, 3923, 1933, 374, 279, 13180, 520, 2204, 3115, 315, 279, 1938, 30, 40633, 1701, 4823, 128009, 128006, 78191, 128007, 271, 5018, 57902, 1251, 794, 220, 1, 10544, 12, 29274, 498, 220, 1, 22928, 13658, 794, 220, 1, 14235, 8868, 498, 220, 1, 16497, 12, 10924, 12684, 794, 220, 1, 14335, 8868, 498, 220, 1, 5185, 13658, 794, 220, 1, 43069, 12, 48799, 498, 220, 1, 82, 37904, 794, 220, 1, 72452, 12, 6161, 498, 220, 1, 9471, 794, 220, 1, 26915, 8868, 9388], 'total_duration': 9200993339, 'load_duration': 44358133, 'prompt_eval_count': 25, 'prompt_eval_duration': 296575000, 'eval_count': 52, 'eval_duration': 8848023000}\n"
     ]
    }
   ],
   "source": [
    "import requests\n",
    "\n",
    "url = \"http://localhost:11434/api/generate\"\n",
    "payload = {\n",
    "    \"model\": \"llama3\",\n",
    "    \"prompt\": \"What color is the sky at different times of the day? Respond using JSON\",\n",
    "    \"format\": \"json\",\n",
    "    \"stream\": False\n",
    "}\n",
    "\n",
    "response = requests.post(url, json=payload)\n",
    "\n",
    "print(response.json())"
   ]
  },
  {
   "cell_type": "markdown",
   "id": "bdcba421-78bc-4074-844b-7a510af047cd",
   "metadata": {},
   "source": [
    "## 调用 Gemma 2 模型服务（对话聊天 API）"
   ]
  },
  {
   "cell_type": "code",
   "execution_count": 1,
   "id": "dedf3232-e6a8-4b91-b5f2-15b1536772e2",
   "metadata": {},
   "outputs": [
    {
     "name": "stdout",
     "output_type": "stream",
     "text": [
      "{'error': 'model \"gemma2:2b\" not found, try pulling it first'}\n"
     ]
    }
   ],
   "source": [
    "import requests\n",
    "\n",
    "url = \"http://localhost:11434/api/chat\"\n",
    "payload = {\n",
    "    \"model\": \"gemma2:2b\",\n",
    "    \"messages\": [\n",
    "        {\"role\": \"user\", \"content\": \"Why is the sky blue?\"}\n",
    "    ],\n",
    "    \"stream\": False\n",
    "}\n",
    "\n",
    "response = requests.post(url, json=payload)\n",
    "print(response.json())\n"
   ]
  },
  {
   "cell_type": "code",
   "execution_count": null,
   "id": "f6bc0adc-4e7f-4ecb-8960-5ddcde6f26fa",
   "metadata": {},
   "outputs": [],
   "source": []
  }
 ],
 "metadata": {
  "kernelspec": {
   "display_name": "Python 3 (ipykernel)",
   "language": "python",
   "name": "python3"
  },
  "language_info": {
   "codemirror_mode": {
    "name": "ipython",
    "version": 3
   },
   "file_extension": ".py",
   "mimetype": "text/x-python",
   "name": "python",
   "nbconvert_exporter": "python",
   "pygments_lexer": "ipython3",
   "version": "3.11.6"
  }
 },
 "nbformat": 4,
 "nbformat_minor": 5
}
